{
  "nbformat": 4,
  "nbformat_minor": 0,
  "metadata": {
    "colab": {
      "provenance": [],
      "authorship_tag": "ABX9TyPbVrcWwd5zPe3G97xW+hso",
      "include_colab_link": true
    },
    "kernelspec": {
      "name": "python3",
      "display_name": "Python 3"
    },
    "language_info": {
      "name": "python"
    }
  },
  "cells": [
    {
      "cell_type": "markdown",
      "metadata": {
        "id": "view-in-github",
        "colab_type": "text"
      },
      "source": [
        "<a href=\"https://colab.research.google.com/github/07Safwa03/My-worrk01/blob/main/UASsafwaBank.ipynb\" target=\"_parent\"><img src=\"https://colab.research.google.com/assets/colab-badge.svg\" alt=\"Open In Colab\"/></a>"
      ]
    },
    {
      "cell_type": "code",
      "source": [
        "import pandas as pd\n",
        "UAS = pd.read_csv('/content/new_test (2).csv')\n",
        "UAS.head()"
      ],
      "metadata": {
        "colab": {
          "base_uri": "https://localhost:8080/",
          "height": 206
        },
        "id": "90D-O652PEYe",
        "outputId": "6f11d9f4-0c44-4e95-fbc8-e682aa16e9f6"
      },
      "execution_count": 42,
      "outputs": [
        {
          "output_type": "execute_result",
          "data": {
            "text/plain": [
              "   age  job  marital  education  default  housing  loan  contact  month  \\\n",
              "0   32    4        0          6        0        0     0        0      3   \n",
              "1   37   10        3          6        0        0     0        0      4   \n",
              "2   55    5        0          5        1        2     0        0      3   \n",
              "3   44    2        1          0        1        0     0        1      4   \n",
              "4   28    0        2          3        0        0     0        0      5   \n",
              "\n",
              "   day_of_week  duration  campaign  poutcome  \n",
              "0            3       131         5         1  \n",
              "1            3       100         1         1  \n",
              "2            2       131         2         1  \n",
              "3            3        48         2         1  \n",
              "4            0       144         2         1  "
            ],
            "text/html": [
              "\n",
              "  <div id=\"df-74c45b98-1608-4ef5-82bd-8051fc3b7ecf\">\n",
              "    <div class=\"colab-df-container\">\n",
              "      <div>\n",
              "<style scoped>\n",
              "    .dataframe tbody tr th:only-of-type {\n",
              "        vertical-align: middle;\n",
              "    }\n",
              "\n",
              "    .dataframe tbody tr th {\n",
              "        vertical-align: top;\n",
              "    }\n",
              "\n",
              "    .dataframe thead th {\n",
              "        text-align: right;\n",
              "    }\n",
              "</style>\n",
              "<table border=\"1\" class=\"dataframe\">\n",
              "  <thead>\n",
              "    <tr style=\"text-align: right;\">\n",
              "      <th></th>\n",
              "      <th>age</th>\n",
              "      <th>job</th>\n",
              "      <th>marital</th>\n",
              "      <th>education</th>\n",
              "      <th>default</th>\n",
              "      <th>housing</th>\n",
              "      <th>loan</th>\n",
              "      <th>contact</th>\n",
              "      <th>month</th>\n",
              "      <th>day_of_week</th>\n",
              "      <th>duration</th>\n",
              "      <th>campaign</th>\n",
              "      <th>poutcome</th>\n",
              "    </tr>\n",
              "  </thead>\n",
              "  <tbody>\n",
              "    <tr>\n",
              "      <th>0</th>\n",
              "      <td>32</td>\n",
              "      <td>4</td>\n",
              "      <td>0</td>\n",
              "      <td>6</td>\n",
              "      <td>0</td>\n",
              "      <td>0</td>\n",
              "      <td>0</td>\n",
              "      <td>0</td>\n",
              "      <td>3</td>\n",
              "      <td>3</td>\n",
              "      <td>131</td>\n",
              "      <td>5</td>\n",
              "      <td>1</td>\n",
              "    </tr>\n",
              "    <tr>\n",
              "      <th>1</th>\n",
              "      <td>37</td>\n",
              "      <td>10</td>\n",
              "      <td>3</td>\n",
              "      <td>6</td>\n",
              "      <td>0</td>\n",
              "      <td>0</td>\n",
              "      <td>0</td>\n",
              "      <td>0</td>\n",
              "      <td>4</td>\n",
              "      <td>3</td>\n",
              "      <td>100</td>\n",
              "      <td>1</td>\n",
              "      <td>1</td>\n",
              "    </tr>\n",
              "    <tr>\n",
              "      <th>2</th>\n",
              "      <td>55</td>\n",
              "      <td>5</td>\n",
              "      <td>0</td>\n",
              "      <td>5</td>\n",
              "      <td>1</td>\n",
              "      <td>2</td>\n",
              "      <td>0</td>\n",
              "      <td>0</td>\n",
              "      <td>3</td>\n",
              "      <td>2</td>\n",
              "      <td>131</td>\n",
              "      <td>2</td>\n",
              "      <td>1</td>\n",
              "    </tr>\n",
              "    <tr>\n",
              "      <th>3</th>\n",
              "      <td>44</td>\n",
              "      <td>2</td>\n",
              "      <td>1</td>\n",
              "      <td>0</td>\n",
              "      <td>1</td>\n",
              "      <td>0</td>\n",
              "      <td>0</td>\n",
              "      <td>1</td>\n",
              "      <td>4</td>\n",
              "      <td>3</td>\n",
              "      <td>48</td>\n",
              "      <td>2</td>\n",
              "      <td>1</td>\n",
              "    </tr>\n",
              "    <tr>\n",
              "      <th>4</th>\n",
              "      <td>28</td>\n",
              "      <td>0</td>\n",
              "      <td>2</td>\n",
              "      <td>3</td>\n",
              "      <td>0</td>\n",
              "      <td>0</td>\n",
              "      <td>0</td>\n",
              "      <td>0</td>\n",
              "      <td>5</td>\n",
              "      <td>0</td>\n",
              "      <td>144</td>\n",
              "      <td>2</td>\n",
              "      <td>1</td>\n",
              "    </tr>\n",
              "  </tbody>\n",
              "</table>\n",
              "</div>\n",
              "      <button class=\"colab-df-convert\" onclick=\"convertToInteractive('df-74c45b98-1608-4ef5-82bd-8051fc3b7ecf')\"\n",
              "              title=\"Convert this dataframe to an interactive table.\"\n",
              "              style=\"display:none;\">\n",
              "        \n",
              "  <svg xmlns=\"http://www.w3.org/2000/svg\" height=\"24px\"viewBox=\"0 0 24 24\"\n",
              "       width=\"24px\">\n",
              "    <path d=\"M0 0h24v24H0V0z\" fill=\"none\"/>\n",
              "    <path d=\"M18.56 5.44l.94 2.06.94-2.06 2.06-.94-2.06-.94-.94-2.06-.94 2.06-2.06.94zm-11 1L8.5 8.5l.94-2.06 2.06-.94-2.06-.94L8.5 2.5l-.94 2.06-2.06.94zm10 10l.94 2.06.94-2.06 2.06-.94-2.06-.94-.94-2.06-.94 2.06-2.06.94z\"/><path d=\"M17.41 7.96l-1.37-1.37c-.4-.4-.92-.59-1.43-.59-.52 0-1.04.2-1.43.59L10.3 9.45l-7.72 7.72c-.78.78-.78 2.05 0 2.83L4 21.41c.39.39.9.59 1.41.59.51 0 1.02-.2 1.41-.59l7.78-7.78 2.81-2.81c.8-.78.8-2.07 0-2.86zM5.41 20L4 18.59l7.72-7.72 1.47 1.35L5.41 20z\"/>\n",
              "  </svg>\n",
              "      </button>\n",
              "      \n",
              "  <style>\n",
              "    .colab-df-container {\n",
              "      display:flex;\n",
              "      flex-wrap:wrap;\n",
              "      gap: 12px;\n",
              "    }\n",
              "\n",
              "    .colab-df-convert {\n",
              "      background-color: #E8F0FE;\n",
              "      border: none;\n",
              "      border-radius: 50%;\n",
              "      cursor: pointer;\n",
              "      display: none;\n",
              "      fill: #1967D2;\n",
              "      height: 32px;\n",
              "      padding: 0 0 0 0;\n",
              "      width: 32px;\n",
              "    }\n",
              "\n",
              "    .colab-df-convert:hover {\n",
              "      background-color: #E2EBFA;\n",
              "      box-shadow: 0px 1px 2px rgba(60, 64, 67, 0.3), 0px 1px 3px 1px rgba(60, 64, 67, 0.15);\n",
              "      fill: #174EA6;\n",
              "    }\n",
              "\n",
              "    [theme=dark] .colab-df-convert {\n",
              "      background-color: #3B4455;\n",
              "      fill: #D2E3FC;\n",
              "    }\n",
              "\n",
              "    [theme=dark] .colab-df-convert:hover {\n",
              "      background-color: #434B5C;\n",
              "      box-shadow: 0px 1px 3px 1px rgba(0, 0, 0, 0.15);\n",
              "      filter: drop-shadow(0px 1px 2px rgba(0, 0, 0, 0.3));\n",
              "      fill: #FFFFFF;\n",
              "    }\n",
              "  </style>\n",
              "\n",
              "      <script>\n",
              "        const buttonEl =\n",
              "          document.querySelector('#df-74c45b98-1608-4ef5-82bd-8051fc3b7ecf button.colab-df-convert');\n",
              "        buttonEl.style.display =\n",
              "          google.colab.kernel.accessAllowed ? 'block' : 'none';\n",
              "\n",
              "        async function convertToInteractive(key) {\n",
              "          const element = document.querySelector('#df-74c45b98-1608-4ef5-82bd-8051fc3b7ecf');\n",
              "          const dataTable =\n",
              "            await google.colab.kernel.invokeFunction('convertToInteractive',\n",
              "                                                     [key], {});\n",
              "          if (!dataTable) return;\n",
              "\n",
              "          const docLinkHtml = 'Like what you see? Visit the ' +\n",
              "            '<a target=\"_blank\" href=https://colab.research.google.com/notebooks/data_table.ipynb>data table notebook</a>'\n",
              "            + ' to learn more about interactive tables.';\n",
              "          element.innerHTML = '';\n",
              "          dataTable['output_type'] = 'display_data';\n",
              "          await google.colab.output.renderOutput(dataTable, element);\n",
              "          const docLink = document.createElement('div');\n",
              "          docLink.innerHTML = docLinkHtml;\n",
              "          element.appendChild(docLink);\n",
              "        }\n",
              "      </script>\n",
              "    </div>\n",
              "  </div>\n",
              "  "
            ]
          },
          "metadata": {},
          "execution_count": 42
        }
      ]
    },
    {
      "cell_type": "code",
      "source": [
        "# Identify the shape of the dataset\n",
        "UAS.shape # bentuk / dimensi dataset (baris, kolom)"
      ],
      "metadata": {
        "colab": {
          "base_uri": "https://localhost:8080/"
        },
        "id": "yrvZ7HNYPxjM",
        "outputId": "08676207-877f-4190-e6b1-1b4e4f46ab01"
      },
      "execution_count": 43,
      "outputs": [
        {
          "output_type": "execute_result",
          "data": {
            "text/plain": [
              "(8238, 13)"
            ]
          },
          "metadata": {},
          "execution_count": 43
        }
      ]
    },
    {
      "cell_type": "code",
      "source": [
        "#Get the list of colomns\n",
        "UAS.columns # daftar nama kolom"
      ],
      "metadata": {
        "colab": {
          "base_uri": "https://localhost:8080/"
        },
        "id": "ZajX_qYSP_Tb",
        "outputId": "be2899ff-752b-45c1-930a-5ec86443995f"
      },
      "execution_count": 45,
      "outputs": [
        {
          "output_type": "execute_result",
          "data": {
            "text/plain": [
              "Index(['age', 'job', 'marital', 'education', 'default', 'housing', 'loan',\n",
              "       'contact', 'month', 'day_of_week', 'duration', 'campaign', 'poutcome'],\n",
              "      dtype='object')"
            ]
          },
          "metadata": {},
          "execution_count": 45
        }
      ]
    },
    {
      "cell_type": "code",
      "source": [
        "UAS.dtypes"
      ],
      "metadata": {
        "id": "Z7lYphuXQDkT",
        "colab": {
          "base_uri": "https://localhost:8080/"
        },
        "outputId": "2b003b53-379e-4f37-ec33-271d173b768e"
      },
      "execution_count": 47,
      "outputs": [
        {
          "output_type": "execute_result",
          "data": {
            "text/plain": [
              "age            int64\n",
              "job            int64\n",
              "marital        int64\n",
              "education      int64\n",
              "default        int64\n",
              "housing        int64\n",
              "loan           int64\n",
              "contact        int64\n",
              "month          int64\n",
              "day_of_week    int64\n",
              "duration       int64\n",
              "campaign       int64\n",
              "poutcome       int64\n",
              "dtype: object"
            ]
          },
          "metadata": {},
          "execution_count": 47
        }
      ]
    },
    {
      "cell_type": "code",
      "source": [
        "UAS.info()"
      ],
      "metadata": {
        "colab": {
          "base_uri": "https://localhost:8080/"
        },
        "id": "dHI1ScmRQFLM",
        "outputId": "a04d3863-42db-49aa-fdc0-0374238c2f66"
      },
      "execution_count": 49,
      "outputs": [
        {
          "output_type": "stream",
          "name": "stdout",
          "text": [
            "<class 'pandas.core.frame.DataFrame'>\n",
            "RangeIndex: 8238 entries, 0 to 8237\n",
            "Data columns (total 13 columns):\n",
            " #   Column       Non-Null Count  Dtype\n",
            "---  ------       --------------  -----\n",
            " 0   age          8238 non-null   int64\n",
            " 1   job          8238 non-null   int64\n",
            " 2   marital      8238 non-null   int64\n",
            " 3   education    8238 non-null   int64\n",
            " 4   default      8238 non-null   int64\n",
            " 5   housing      8238 non-null   int64\n",
            " 6   loan         8238 non-null   int64\n",
            " 7   contact      8238 non-null   int64\n",
            " 8   month        8238 non-null   int64\n",
            " 9   day_of_week  8238 non-null   int64\n",
            " 10  duration     8238 non-null   int64\n",
            " 11  campaign     8238 non-null   int64\n",
            " 12  poutcome     8238 non-null   int64\n",
            "dtypes: int64(13)\n",
            "memory usage: 836.8 KB\n"
          ]
        }
      ]
    },
    {
      "cell_type": "code",
      "source": [
        "UAS.isna().values.any()"
      ],
      "metadata": {
        "colab": {
          "base_uri": "https://localhost:8080/"
        },
        "id": "LgnVXihWQLJV",
        "outputId": "d1a9e1a0-6e7a-4b34-f7df-4829e9e49e87"
      },
      "execution_count": 50,
      "outputs": [
        {
          "output_type": "execute_result",
          "data": {
            "text/plain": [
              "False"
            ]
          },
          "metadata": {},
          "execution_count": 50
        }
      ]
    },
    {
      "cell_type": "code",
      "source": [
        "UAS[UAS.duplicated()]"
      ],
      "metadata": {
        "colab": {
          "base_uri": "https://localhost:8080/",
          "height": 112
        },
        "id": "9st2F8PgQN7m",
        "outputId": "a17c721f-2005-4416-e28d-e1d477a9ab74"
      },
      "execution_count": 51,
      "outputs": [
        {
          "output_type": "execute_result",
          "data": {
            "text/plain": [
              "      age  job  marital  education  default  housing  loan  contact  month  \\\n",
              "5258   26    8        2          3        0        0     0        1      4   \n",
              "5604   40    0        2          3        0        0     0        0      6   \n",
              "\n",
              "      day_of_week  duration  campaign  poutcome  \n",
              "5258            1       554         1         1  \n",
              "5604            3        36         5         1  "
            ],
            "text/html": [
              "\n",
              "  <div id=\"df-ab0cbedd-2cda-4319-afc2-e72894599520\">\n",
              "    <div class=\"colab-df-container\">\n",
              "      <div>\n",
              "<style scoped>\n",
              "    .dataframe tbody tr th:only-of-type {\n",
              "        vertical-align: middle;\n",
              "    }\n",
              "\n",
              "    .dataframe tbody tr th {\n",
              "        vertical-align: top;\n",
              "    }\n",
              "\n",
              "    .dataframe thead th {\n",
              "        text-align: right;\n",
              "    }\n",
              "</style>\n",
              "<table border=\"1\" class=\"dataframe\">\n",
              "  <thead>\n",
              "    <tr style=\"text-align: right;\">\n",
              "      <th></th>\n",
              "      <th>age</th>\n",
              "      <th>job</th>\n",
              "      <th>marital</th>\n",
              "      <th>education</th>\n",
              "      <th>default</th>\n",
              "      <th>housing</th>\n",
              "      <th>loan</th>\n",
              "      <th>contact</th>\n",
              "      <th>month</th>\n",
              "      <th>day_of_week</th>\n",
              "      <th>duration</th>\n",
              "      <th>campaign</th>\n",
              "      <th>poutcome</th>\n",
              "    </tr>\n",
              "  </thead>\n",
              "  <tbody>\n",
              "    <tr>\n",
              "      <th>5258</th>\n",
              "      <td>26</td>\n",
              "      <td>8</td>\n",
              "      <td>2</td>\n",
              "      <td>3</td>\n",
              "      <td>0</td>\n",
              "      <td>0</td>\n",
              "      <td>0</td>\n",
              "      <td>1</td>\n",
              "      <td>4</td>\n",
              "      <td>1</td>\n",
              "      <td>554</td>\n",
              "      <td>1</td>\n",
              "      <td>1</td>\n",
              "    </tr>\n",
              "    <tr>\n",
              "      <th>5604</th>\n",
              "      <td>40</td>\n",
              "      <td>0</td>\n",
              "      <td>2</td>\n",
              "      <td>3</td>\n",
              "      <td>0</td>\n",
              "      <td>0</td>\n",
              "      <td>0</td>\n",
              "      <td>0</td>\n",
              "      <td>6</td>\n",
              "      <td>3</td>\n",
              "      <td>36</td>\n",
              "      <td>5</td>\n",
              "      <td>1</td>\n",
              "    </tr>\n",
              "  </tbody>\n",
              "</table>\n",
              "</div>\n",
              "      <button class=\"colab-df-convert\" onclick=\"convertToInteractive('df-ab0cbedd-2cda-4319-afc2-e72894599520')\"\n",
              "              title=\"Convert this dataframe to an interactive table.\"\n",
              "              style=\"display:none;\">\n",
              "        \n",
              "  <svg xmlns=\"http://www.w3.org/2000/svg\" height=\"24px\"viewBox=\"0 0 24 24\"\n",
              "       width=\"24px\">\n",
              "    <path d=\"M0 0h24v24H0V0z\" fill=\"none\"/>\n",
              "    <path d=\"M18.56 5.44l.94 2.06.94-2.06 2.06-.94-2.06-.94-.94-2.06-.94 2.06-2.06.94zm-11 1L8.5 8.5l.94-2.06 2.06-.94-2.06-.94L8.5 2.5l-.94 2.06-2.06.94zm10 10l.94 2.06.94-2.06 2.06-.94-2.06-.94-.94-2.06-.94 2.06-2.06.94z\"/><path d=\"M17.41 7.96l-1.37-1.37c-.4-.4-.92-.59-1.43-.59-.52 0-1.04.2-1.43.59L10.3 9.45l-7.72 7.72c-.78.78-.78 2.05 0 2.83L4 21.41c.39.39.9.59 1.41.59.51 0 1.02-.2 1.41-.59l7.78-7.78 2.81-2.81c.8-.78.8-2.07 0-2.86zM5.41 20L4 18.59l7.72-7.72 1.47 1.35L5.41 20z\"/>\n",
              "  </svg>\n",
              "      </button>\n",
              "      \n",
              "  <style>\n",
              "    .colab-df-container {\n",
              "      display:flex;\n",
              "      flex-wrap:wrap;\n",
              "      gap: 12px;\n",
              "    }\n",
              "\n",
              "    .colab-df-convert {\n",
              "      background-color: #E8F0FE;\n",
              "      border: none;\n",
              "      border-radius: 50%;\n",
              "      cursor: pointer;\n",
              "      display: none;\n",
              "      fill: #1967D2;\n",
              "      height: 32px;\n",
              "      padding: 0 0 0 0;\n",
              "      width: 32px;\n",
              "    }\n",
              "\n",
              "    .colab-df-convert:hover {\n",
              "      background-color: #E2EBFA;\n",
              "      box-shadow: 0px 1px 2px rgba(60, 64, 67, 0.3), 0px 1px 3px 1px rgba(60, 64, 67, 0.15);\n",
              "      fill: #174EA6;\n",
              "    }\n",
              "\n",
              "    [theme=dark] .colab-df-convert {\n",
              "      background-color: #3B4455;\n",
              "      fill: #D2E3FC;\n",
              "    }\n",
              "\n",
              "    [theme=dark] .colab-df-convert:hover {\n",
              "      background-color: #434B5C;\n",
              "      box-shadow: 0px 1px 3px 1px rgba(0, 0, 0, 0.15);\n",
              "      filter: drop-shadow(0px 1px 2px rgba(0, 0, 0, 0.3));\n",
              "      fill: #FFFFFF;\n",
              "    }\n",
              "  </style>\n",
              "\n",
              "      <script>\n",
              "        const buttonEl =\n",
              "          document.querySelector('#df-ab0cbedd-2cda-4319-afc2-e72894599520 button.colab-df-convert');\n",
              "        buttonEl.style.display =\n",
              "          google.colab.kernel.accessAllowed ? 'block' : 'none';\n",
              "\n",
              "        async function convertToInteractive(key) {\n",
              "          const element = document.querySelector('#df-ab0cbedd-2cda-4319-afc2-e72894599520');\n",
              "          const dataTable =\n",
              "            await google.colab.kernel.invokeFunction('convertToInteractive',\n",
              "                                                     [key], {});\n",
              "          if (!dataTable) return;\n",
              "\n",
              "          const docLinkHtml = 'Like what you see? Visit the ' +\n",
              "            '<a target=\"_blank\" href=https://colab.research.google.com/notebooks/data_table.ipynb>data table notebook</a>'\n",
              "            + ' to learn more about interactive tables.';\n",
              "          element.innerHTML = '';\n",
              "          dataTable['output_type'] = 'display_data';\n",
              "          await google.colab.output.renderOutput(dataTable, element);\n",
              "          const docLink = document.createElement('div');\n",
              "          docLink.innerHTML = docLinkHtml;\n",
              "          element.appendChild(docLink);\n",
              "        }\n",
              "      </script>\n",
              "    </div>\n",
              "  </div>\n",
              "  "
            ]
          },
          "metadata": {},
          "execution_count": 51
        }
      ]
    },
    {
      "cell_type": "code",
      "source": [
        "UAS.duplicated().value_counts()"
      ],
      "metadata": {
        "colab": {
          "base_uri": "https://localhost:8080/"
        },
        "id": "fb6ZOvGjQZt8",
        "outputId": "11fcbd5f-54b7-4ad8-cfe6-1df083f0a9a1"
      },
      "execution_count": 52,
      "outputs": [
        {
          "output_type": "execute_result",
          "data": {
            "text/plain": [
              "False    8236\n",
              "True        2\n",
              "dtype: int64"
            ]
          },
          "metadata": {},
          "execution_count": 52
        }
      ]
    },
    {
      "cell_type": "code",
      "source": [
        "UAS.drop_duplicates(inplace=True)\n",
        "UAS.shape"
      ],
      "metadata": {
        "colab": {
          "base_uri": "https://localhost:8080/"
        },
        "id": "Ag8d3pZIQb7q",
        "outputId": "5d9dbbd4-61a9-42e2-f4f1-4e377127745f"
      },
      "execution_count": 53,
      "outputs": [
        {
          "output_type": "execute_result",
          "data": {
            "text/plain": [
              "(8236, 13)"
            ]
          },
          "metadata": {},
          "execution_count": 53
        }
      ]
    },
    {
      "cell_type": "code",
      "source": [
        "UAS.describe()"
      ],
      "metadata": {
        "colab": {
          "base_uri": "https://localhost:8080/",
          "height": 364
        },
        "id": "qWWoYUGxQiyP",
        "outputId": "607da44f-6289-4781-f374-c6f22e1ae3aa"
      },
      "execution_count": 54,
      "outputs": [
        {
          "output_type": "execute_result",
          "data": {
            "text/plain": [
              "               age          job      marital    education      default  \\\n",
              "count  8236.000000  8236.000000  8236.000000  8236.000000  8236.000000   \n",
              "mean     39.615104     3.729359     1.170228     3.740772     0.201190   \n",
              "std       9.021218     3.597168     0.610308     2.134845     0.400914   \n",
              "min      26.000000     0.000000     0.000000     0.000000     0.000000   \n",
              "25%      32.000000     0.000000     1.000000     2.000000     0.000000   \n",
              "50%      38.000000     2.000000     1.000000     3.000000     0.000000   \n",
              "75%      47.000000     7.000000     2.000000     6.000000     0.000000   \n",
              "max      55.000000    11.000000     3.000000     7.000000     1.000000   \n",
              "\n",
              "           housing         loan      contact        month  day_of_week  \\\n",
              "count  8236.000000  8236.000000  8236.000000  8236.000000  8236.000000   \n",
              "mean      1.073094     0.321030     0.364376     4.220495     2.020884   \n",
              "std       0.985505     0.717988     0.481284     2.321662     1.386832   \n",
              "min       0.000000     0.000000     0.000000     0.000000     0.000000   \n",
              "25%       0.000000     0.000000     0.000000     3.000000     1.000000   \n",
              "50%       2.000000     0.000000     0.000000     4.000000     2.000000   \n",
              "75%       2.000000     0.000000     1.000000     6.000000     3.000000   \n",
              "max       2.000000     2.000000     1.000000     9.000000     4.000000   \n",
              "\n",
              "          duration     campaign     poutcome  \n",
              "count  8236.000000  8236.000000  8236.000000  \n",
              "mean    227.804274     2.207382     0.932613  \n",
              "std     160.412799     1.380662     0.357689  \n",
              "min      36.000000     1.000000     0.000000  \n",
              "25%     101.000000     1.000000     1.000000  \n",
              "50%     178.000000     2.000000     1.000000  \n",
              "75%     319.000000     3.000000     1.000000  \n",
              "max     554.000000     5.000000     2.000000  "
            ],
            "text/html": [
              "\n",
              "  <div id=\"df-6f8575b8-4a6e-4aad-81c8-e8ad16f37154\">\n",
              "    <div class=\"colab-df-container\">\n",
              "      <div>\n",
              "<style scoped>\n",
              "    .dataframe tbody tr th:only-of-type {\n",
              "        vertical-align: middle;\n",
              "    }\n",
              "\n",
              "    .dataframe tbody tr th {\n",
              "        vertical-align: top;\n",
              "    }\n",
              "\n",
              "    .dataframe thead th {\n",
              "        text-align: right;\n",
              "    }\n",
              "</style>\n",
              "<table border=\"1\" class=\"dataframe\">\n",
              "  <thead>\n",
              "    <tr style=\"text-align: right;\">\n",
              "      <th></th>\n",
              "      <th>age</th>\n",
              "      <th>job</th>\n",
              "      <th>marital</th>\n",
              "      <th>education</th>\n",
              "      <th>default</th>\n",
              "      <th>housing</th>\n",
              "      <th>loan</th>\n",
              "      <th>contact</th>\n",
              "      <th>month</th>\n",
              "      <th>day_of_week</th>\n",
              "      <th>duration</th>\n",
              "      <th>campaign</th>\n",
              "      <th>poutcome</th>\n",
              "    </tr>\n",
              "  </thead>\n",
              "  <tbody>\n",
              "    <tr>\n",
              "      <th>count</th>\n",
              "      <td>8236.000000</td>\n",
              "      <td>8236.000000</td>\n",
              "      <td>8236.000000</td>\n",
              "      <td>8236.000000</td>\n",
              "      <td>8236.000000</td>\n",
              "      <td>8236.000000</td>\n",
              "      <td>8236.000000</td>\n",
              "      <td>8236.000000</td>\n",
              "      <td>8236.000000</td>\n",
              "      <td>8236.000000</td>\n",
              "      <td>8236.000000</td>\n",
              "      <td>8236.000000</td>\n",
              "      <td>8236.000000</td>\n",
              "    </tr>\n",
              "    <tr>\n",
              "      <th>mean</th>\n",
              "      <td>39.615104</td>\n",
              "      <td>3.729359</td>\n",
              "      <td>1.170228</td>\n",
              "      <td>3.740772</td>\n",
              "      <td>0.201190</td>\n",
              "      <td>1.073094</td>\n",
              "      <td>0.321030</td>\n",
              "      <td>0.364376</td>\n",
              "      <td>4.220495</td>\n",
              "      <td>2.020884</td>\n",
              "      <td>227.804274</td>\n",
              "      <td>2.207382</td>\n",
              "      <td>0.932613</td>\n",
              "    </tr>\n",
              "    <tr>\n",
              "      <th>std</th>\n",
              "      <td>9.021218</td>\n",
              "      <td>3.597168</td>\n",
              "      <td>0.610308</td>\n",
              "      <td>2.134845</td>\n",
              "      <td>0.400914</td>\n",
              "      <td>0.985505</td>\n",
              "      <td>0.717988</td>\n",
              "      <td>0.481284</td>\n",
              "      <td>2.321662</td>\n",
              "      <td>1.386832</td>\n",
              "      <td>160.412799</td>\n",
              "      <td>1.380662</td>\n",
              "      <td>0.357689</td>\n",
              "    </tr>\n",
              "    <tr>\n",
              "      <th>min</th>\n",
              "      <td>26.000000</td>\n",
              "      <td>0.000000</td>\n",
              "      <td>0.000000</td>\n",
              "      <td>0.000000</td>\n",
              "      <td>0.000000</td>\n",
              "      <td>0.000000</td>\n",
              "      <td>0.000000</td>\n",
              "      <td>0.000000</td>\n",
              "      <td>0.000000</td>\n",
              "      <td>0.000000</td>\n",
              "      <td>36.000000</td>\n",
              "      <td>1.000000</td>\n",
              "      <td>0.000000</td>\n",
              "    </tr>\n",
              "    <tr>\n",
              "      <th>25%</th>\n",
              "      <td>32.000000</td>\n",
              "      <td>0.000000</td>\n",
              "      <td>1.000000</td>\n",
              "      <td>2.000000</td>\n",
              "      <td>0.000000</td>\n",
              "      <td>0.000000</td>\n",
              "      <td>0.000000</td>\n",
              "      <td>0.000000</td>\n",
              "      <td>3.000000</td>\n",
              "      <td>1.000000</td>\n",
              "      <td>101.000000</td>\n",
              "      <td>1.000000</td>\n",
              "      <td>1.000000</td>\n",
              "    </tr>\n",
              "    <tr>\n",
              "      <th>50%</th>\n",
              "      <td>38.000000</td>\n",
              "      <td>2.000000</td>\n",
              "      <td>1.000000</td>\n",
              "      <td>3.000000</td>\n",
              "      <td>0.000000</td>\n",
              "      <td>2.000000</td>\n",
              "      <td>0.000000</td>\n",
              "      <td>0.000000</td>\n",
              "      <td>4.000000</td>\n",
              "      <td>2.000000</td>\n",
              "      <td>178.000000</td>\n",
              "      <td>2.000000</td>\n",
              "      <td>1.000000</td>\n",
              "    </tr>\n",
              "    <tr>\n",
              "      <th>75%</th>\n",
              "      <td>47.000000</td>\n",
              "      <td>7.000000</td>\n",
              "      <td>2.000000</td>\n",
              "      <td>6.000000</td>\n",
              "      <td>0.000000</td>\n",
              "      <td>2.000000</td>\n",
              "      <td>0.000000</td>\n",
              "      <td>1.000000</td>\n",
              "      <td>6.000000</td>\n",
              "      <td>3.000000</td>\n",
              "      <td>319.000000</td>\n",
              "      <td>3.000000</td>\n",
              "      <td>1.000000</td>\n",
              "    </tr>\n",
              "    <tr>\n",
              "      <th>max</th>\n",
              "      <td>55.000000</td>\n",
              "      <td>11.000000</td>\n",
              "      <td>3.000000</td>\n",
              "      <td>7.000000</td>\n",
              "      <td>1.000000</td>\n",
              "      <td>2.000000</td>\n",
              "      <td>2.000000</td>\n",
              "      <td>1.000000</td>\n",
              "      <td>9.000000</td>\n",
              "      <td>4.000000</td>\n",
              "      <td>554.000000</td>\n",
              "      <td>5.000000</td>\n",
              "      <td>2.000000</td>\n",
              "    </tr>\n",
              "  </tbody>\n",
              "</table>\n",
              "</div>\n",
              "      <button class=\"colab-df-convert\" onclick=\"convertToInteractive('df-6f8575b8-4a6e-4aad-81c8-e8ad16f37154')\"\n",
              "              title=\"Convert this dataframe to an interactive table.\"\n",
              "              style=\"display:none;\">\n",
              "        \n",
              "  <svg xmlns=\"http://www.w3.org/2000/svg\" height=\"24px\"viewBox=\"0 0 24 24\"\n",
              "       width=\"24px\">\n",
              "    <path d=\"M0 0h24v24H0V0z\" fill=\"none\"/>\n",
              "    <path d=\"M18.56 5.44l.94 2.06.94-2.06 2.06-.94-2.06-.94-.94-2.06-.94 2.06-2.06.94zm-11 1L8.5 8.5l.94-2.06 2.06-.94-2.06-.94L8.5 2.5l-.94 2.06-2.06.94zm10 10l.94 2.06.94-2.06 2.06-.94-2.06-.94-.94-2.06-.94 2.06-2.06.94z\"/><path d=\"M17.41 7.96l-1.37-1.37c-.4-.4-.92-.59-1.43-.59-.52 0-1.04.2-1.43.59L10.3 9.45l-7.72 7.72c-.78.78-.78 2.05 0 2.83L4 21.41c.39.39.9.59 1.41.59.51 0 1.02-.2 1.41-.59l7.78-7.78 2.81-2.81c.8-.78.8-2.07 0-2.86zM5.41 20L4 18.59l7.72-7.72 1.47 1.35L5.41 20z\"/>\n",
              "  </svg>\n",
              "      </button>\n",
              "      \n",
              "  <style>\n",
              "    .colab-df-container {\n",
              "      display:flex;\n",
              "      flex-wrap:wrap;\n",
              "      gap: 12px;\n",
              "    }\n",
              "\n",
              "    .colab-df-convert {\n",
              "      background-color: #E8F0FE;\n",
              "      border: none;\n",
              "      border-radius: 50%;\n",
              "      cursor: pointer;\n",
              "      display: none;\n",
              "      fill: #1967D2;\n",
              "      height: 32px;\n",
              "      padding: 0 0 0 0;\n",
              "      width: 32px;\n",
              "    }\n",
              "\n",
              "    .colab-df-convert:hover {\n",
              "      background-color: #E2EBFA;\n",
              "      box-shadow: 0px 1px 2px rgba(60, 64, 67, 0.3), 0px 1px 3px 1px rgba(60, 64, 67, 0.15);\n",
              "      fill: #174EA6;\n",
              "    }\n",
              "\n",
              "    [theme=dark] .colab-df-convert {\n",
              "      background-color: #3B4455;\n",
              "      fill: #D2E3FC;\n",
              "    }\n",
              "\n",
              "    [theme=dark] .colab-df-convert:hover {\n",
              "      background-color: #434B5C;\n",
              "      box-shadow: 0px 1px 3px 1px rgba(0, 0, 0, 0.15);\n",
              "      filter: drop-shadow(0px 1px 2px rgba(0, 0, 0, 0.3));\n",
              "      fill: #FFFFFF;\n",
              "    }\n",
              "  </style>\n",
              "\n",
              "      <script>\n",
              "        const buttonEl =\n",
              "          document.querySelector('#df-6f8575b8-4a6e-4aad-81c8-e8ad16f37154 button.colab-df-convert');\n",
              "        buttonEl.style.display =\n",
              "          google.colab.kernel.accessAllowed ? 'block' : 'none';\n",
              "\n",
              "        async function convertToInteractive(key) {\n",
              "          const element = document.querySelector('#df-6f8575b8-4a6e-4aad-81c8-e8ad16f37154');\n",
              "          const dataTable =\n",
              "            await google.colab.kernel.invokeFunction('convertToInteractive',\n",
              "                                                     [key], {});\n",
              "          if (!dataTable) return;\n",
              "\n",
              "          const docLinkHtml = 'Like what you see? Visit the ' +\n",
              "            '<a target=\"_blank\" href=https://colab.research.google.com/notebooks/data_table.ipynb>data table notebook</a>'\n",
              "            + ' to learn more about interactive tables.';\n",
              "          element.innerHTML = '';\n",
              "          dataTable['output_type'] = 'display_data';\n",
              "          await google.colab.output.renderOutput(dataTable, element);\n",
              "          const docLink = document.createElement('div');\n",
              "          docLink.innerHTML = docLinkHtml;\n",
              "          element.appendChild(docLink);\n",
              "        }\n",
              "      </script>\n",
              "    </div>\n",
              "  </div>\n",
              "  "
            ]
          },
          "metadata": {},
          "execution_count": 54
        }
      ]
    },
    {
      "cell_type": "code",
      "source": [
        "UAS.corr()"
      ],
      "metadata": {
        "colab": {
          "base_uri": "https://localhost:8080/",
          "height": 501
        },
        "id": "w1Tt_0dTQmGp",
        "outputId": "ea26317a-8395-4f98-dc2a-4d2d777407a4"
      },
      "execution_count": 56,
      "outputs": [
        {
          "output_type": "execute_result",
          "data": {
            "text/plain": [
              "                  age       job   marital  education   default   housing  \\\n",
              "age          1.000000  0.002900 -0.397872  -0.119938  0.173442  0.002687   \n",
              "job          0.002900  1.000000  0.016563   0.141322 -0.026738  0.000922   \n",
              "marital     -0.397872  0.016563  1.000000   0.107129 -0.066537 -0.018267   \n",
              "education   -0.119938  0.141322  0.107129   1.000000 -0.183941 -0.010906   \n",
              "default      0.173442 -0.026738 -0.066537  -0.183941  1.000000 -0.002187   \n",
              "housing      0.002687  0.000922 -0.018267  -0.010906 -0.002187  1.000000   \n",
              "loan        -0.024660 -0.003734  0.001640   0.003913 -0.002930  0.041315   \n",
              "contact      0.025873 -0.026851 -0.053684  -0.112402  0.129158 -0.078945   \n",
              "month       -0.015382 -0.057864 -0.018352  -0.080563  0.000344 -0.014953   \n",
              "day_of_week -0.016615 -0.007119  0.000390  -0.017243  0.018432 -0.001650   \n",
              "duration    -0.000264  0.002566  0.014564  -0.012098 -0.013377 -0.008317   \n",
              "campaign     0.013497 -0.001656 -0.033254   0.011567  0.017631 -0.006590   \n",
              "poutcome     0.013148  0.011967 -0.003072   0.016718  0.010721  0.001229   \n",
              "\n",
              "                 loan   contact     month  day_of_week  duration  campaign  \\\n",
              "age         -0.024660  0.025873 -0.015382    -0.016615 -0.000264  0.013497   \n",
              "job         -0.003734 -0.026851 -0.057864    -0.007119  0.002566 -0.001656   \n",
              "marital      0.001640 -0.053684 -0.018352     0.000390  0.014564 -0.033254   \n",
              "education    0.003913 -0.112402 -0.080563    -0.017243 -0.012098  0.011567   \n",
              "default     -0.002930  0.129158  0.000344     0.018432 -0.013377  0.017631   \n",
              "housing      0.041315 -0.078945 -0.014953    -0.001650 -0.008317 -0.006590   \n",
              "loan         1.000000 -0.005415 -0.006410     0.009120 -0.023648  0.012088   \n",
              "contact     -0.005415  1.000000  0.281287    -0.019043 -0.035312  0.085460   \n",
              "month       -0.006410  0.281287  1.000000     0.043828  0.015445 -0.064993   \n",
              "day_of_week  0.009120 -0.019043  0.043828     1.000000  0.030023 -0.059086   \n",
              "duration    -0.023648 -0.035312  0.015445     0.030023  1.000000 -0.056985   \n",
              "campaign     0.012088  0.085460 -0.064993    -0.059086 -0.056985  1.000000   \n",
              "poutcome     0.009538  0.107380 -0.062531     0.037109  0.048660  0.035924   \n",
              "\n",
              "             poutcome  \n",
              "age          0.013148  \n",
              "job          0.011967  \n",
              "marital     -0.003072  \n",
              "education    0.016718  \n",
              "default      0.010721  \n",
              "housing      0.001229  \n",
              "loan         0.009538  \n",
              "contact      0.107380  \n",
              "month       -0.062531  \n",
              "day_of_week  0.037109  \n",
              "duration     0.048660  \n",
              "campaign     0.035924  \n",
              "poutcome     1.000000  "
            ],
            "text/html": [
              "\n",
              "  <div id=\"df-3b427a81-6bbd-4df2-a6fd-75659d6e13c7\">\n",
              "    <div class=\"colab-df-container\">\n",
              "      <div>\n",
              "<style scoped>\n",
              "    .dataframe tbody tr th:only-of-type {\n",
              "        vertical-align: middle;\n",
              "    }\n",
              "\n",
              "    .dataframe tbody tr th {\n",
              "        vertical-align: top;\n",
              "    }\n",
              "\n",
              "    .dataframe thead th {\n",
              "        text-align: right;\n",
              "    }\n",
              "</style>\n",
              "<table border=\"1\" class=\"dataframe\">\n",
              "  <thead>\n",
              "    <tr style=\"text-align: right;\">\n",
              "      <th></th>\n",
              "      <th>age</th>\n",
              "      <th>job</th>\n",
              "      <th>marital</th>\n",
              "      <th>education</th>\n",
              "      <th>default</th>\n",
              "      <th>housing</th>\n",
              "      <th>loan</th>\n",
              "      <th>contact</th>\n",
              "      <th>month</th>\n",
              "      <th>day_of_week</th>\n",
              "      <th>duration</th>\n",
              "      <th>campaign</th>\n",
              "      <th>poutcome</th>\n",
              "    </tr>\n",
              "  </thead>\n",
              "  <tbody>\n",
              "    <tr>\n",
              "      <th>age</th>\n",
              "      <td>1.000000</td>\n",
              "      <td>0.002900</td>\n",
              "      <td>-0.397872</td>\n",
              "      <td>-0.119938</td>\n",
              "      <td>0.173442</td>\n",
              "      <td>0.002687</td>\n",
              "      <td>-0.024660</td>\n",
              "      <td>0.025873</td>\n",
              "      <td>-0.015382</td>\n",
              "      <td>-0.016615</td>\n",
              "      <td>-0.000264</td>\n",
              "      <td>0.013497</td>\n",
              "      <td>0.013148</td>\n",
              "    </tr>\n",
              "    <tr>\n",
              "      <th>job</th>\n",
              "      <td>0.002900</td>\n",
              "      <td>1.000000</td>\n",
              "      <td>0.016563</td>\n",
              "      <td>0.141322</td>\n",
              "      <td>-0.026738</td>\n",
              "      <td>0.000922</td>\n",
              "      <td>-0.003734</td>\n",
              "      <td>-0.026851</td>\n",
              "      <td>-0.057864</td>\n",
              "      <td>-0.007119</td>\n",
              "      <td>0.002566</td>\n",
              "      <td>-0.001656</td>\n",
              "      <td>0.011967</td>\n",
              "    </tr>\n",
              "    <tr>\n",
              "      <th>marital</th>\n",
              "      <td>-0.397872</td>\n",
              "      <td>0.016563</td>\n",
              "      <td>1.000000</td>\n",
              "      <td>0.107129</td>\n",
              "      <td>-0.066537</td>\n",
              "      <td>-0.018267</td>\n",
              "      <td>0.001640</td>\n",
              "      <td>-0.053684</td>\n",
              "      <td>-0.018352</td>\n",
              "      <td>0.000390</td>\n",
              "      <td>0.014564</td>\n",
              "      <td>-0.033254</td>\n",
              "      <td>-0.003072</td>\n",
              "    </tr>\n",
              "    <tr>\n",
              "      <th>education</th>\n",
              "      <td>-0.119938</td>\n",
              "      <td>0.141322</td>\n",
              "      <td>0.107129</td>\n",
              "      <td>1.000000</td>\n",
              "      <td>-0.183941</td>\n",
              "      <td>-0.010906</td>\n",
              "      <td>0.003913</td>\n",
              "      <td>-0.112402</td>\n",
              "      <td>-0.080563</td>\n",
              "      <td>-0.017243</td>\n",
              "      <td>-0.012098</td>\n",
              "      <td>0.011567</td>\n",
              "      <td>0.016718</td>\n",
              "    </tr>\n",
              "    <tr>\n",
              "      <th>default</th>\n",
              "      <td>0.173442</td>\n",
              "      <td>-0.026738</td>\n",
              "      <td>-0.066537</td>\n",
              "      <td>-0.183941</td>\n",
              "      <td>1.000000</td>\n",
              "      <td>-0.002187</td>\n",
              "      <td>-0.002930</td>\n",
              "      <td>0.129158</td>\n",
              "      <td>0.000344</td>\n",
              "      <td>0.018432</td>\n",
              "      <td>-0.013377</td>\n",
              "      <td>0.017631</td>\n",
              "      <td>0.010721</td>\n",
              "    </tr>\n",
              "    <tr>\n",
              "      <th>housing</th>\n",
              "      <td>0.002687</td>\n",
              "      <td>0.000922</td>\n",
              "      <td>-0.018267</td>\n",
              "      <td>-0.010906</td>\n",
              "      <td>-0.002187</td>\n",
              "      <td>1.000000</td>\n",
              "      <td>0.041315</td>\n",
              "      <td>-0.078945</td>\n",
              "      <td>-0.014953</td>\n",
              "      <td>-0.001650</td>\n",
              "      <td>-0.008317</td>\n",
              "      <td>-0.006590</td>\n",
              "      <td>0.001229</td>\n",
              "    </tr>\n",
              "    <tr>\n",
              "      <th>loan</th>\n",
              "      <td>-0.024660</td>\n",
              "      <td>-0.003734</td>\n",
              "      <td>0.001640</td>\n",
              "      <td>0.003913</td>\n",
              "      <td>-0.002930</td>\n",
              "      <td>0.041315</td>\n",
              "      <td>1.000000</td>\n",
              "      <td>-0.005415</td>\n",
              "      <td>-0.006410</td>\n",
              "      <td>0.009120</td>\n",
              "      <td>-0.023648</td>\n",
              "      <td>0.012088</td>\n",
              "      <td>0.009538</td>\n",
              "    </tr>\n",
              "    <tr>\n",
              "      <th>contact</th>\n",
              "      <td>0.025873</td>\n",
              "      <td>-0.026851</td>\n",
              "      <td>-0.053684</td>\n",
              "      <td>-0.112402</td>\n",
              "      <td>0.129158</td>\n",
              "      <td>-0.078945</td>\n",
              "      <td>-0.005415</td>\n",
              "      <td>1.000000</td>\n",
              "      <td>0.281287</td>\n",
              "      <td>-0.019043</td>\n",
              "      <td>-0.035312</td>\n",
              "      <td>0.085460</td>\n",
              "      <td>0.107380</td>\n",
              "    </tr>\n",
              "    <tr>\n",
              "      <th>month</th>\n",
              "      <td>-0.015382</td>\n",
              "      <td>-0.057864</td>\n",
              "      <td>-0.018352</td>\n",
              "      <td>-0.080563</td>\n",
              "      <td>0.000344</td>\n",
              "      <td>-0.014953</td>\n",
              "      <td>-0.006410</td>\n",
              "      <td>0.281287</td>\n",
              "      <td>1.000000</td>\n",
              "      <td>0.043828</td>\n",
              "      <td>0.015445</td>\n",
              "      <td>-0.064993</td>\n",
              "      <td>-0.062531</td>\n",
              "    </tr>\n",
              "    <tr>\n",
              "      <th>day_of_week</th>\n",
              "      <td>-0.016615</td>\n",
              "      <td>-0.007119</td>\n",
              "      <td>0.000390</td>\n",
              "      <td>-0.017243</td>\n",
              "      <td>0.018432</td>\n",
              "      <td>-0.001650</td>\n",
              "      <td>0.009120</td>\n",
              "      <td>-0.019043</td>\n",
              "      <td>0.043828</td>\n",
              "      <td>1.000000</td>\n",
              "      <td>0.030023</td>\n",
              "      <td>-0.059086</td>\n",
              "      <td>0.037109</td>\n",
              "    </tr>\n",
              "    <tr>\n",
              "      <th>duration</th>\n",
              "      <td>-0.000264</td>\n",
              "      <td>0.002566</td>\n",
              "      <td>0.014564</td>\n",
              "      <td>-0.012098</td>\n",
              "      <td>-0.013377</td>\n",
              "      <td>-0.008317</td>\n",
              "      <td>-0.023648</td>\n",
              "      <td>-0.035312</td>\n",
              "      <td>0.015445</td>\n",
              "      <td>0.030023</td>\n",
              "      <td>1.000000</td>\n",
              "      <td>-0.056985</td>\n",
              "      <td>0.048660</td>\n",
              "    </tr>\n",
              "    <tr>\n",
              "      <th>campaign</th>\n",
              "      <td>0.013497</td>\n",
              "      <td>-0.001656</td>\n",
              "      <td>-0.033254</td>\n",
              "      <td>0.011567</td>\n",
              "      <td>0.017631</td>\n",
              "      <td>-0.006590</td>\n",
              "      <td>0.012088</td>\n",
              "      <td>0.085460</td>\n",
              "      <td>-0.064993</td>\n",
              "      <td>-0.059086</td>\n",
              "      <td>-0.056985</td>\n",
              "      <td>1.000000</td>\n",
              "      <td>0.035924</td>\n",
              "    </tr>\n",
              "    <tr>\n",
              "      <th>poutcome</th>\n",
              "      <td>0.013148</td>\n",
              "      <td>0.011967</td>\n",
              "      <td>-0.003072</td>\n",
              "      <td>0.016718</td>\n",
              "      <td>0.010721</td>\n",
              "      <td>0.001229</td>\n",
              "      <td>0.009538</td>\n",
              "      <td>0.107380</td>\n",
              "      <td>-0.062531</td>\n",
              "      <td>0.037109</td>\n",
              "      <td>0.048660</td>\n",
              "      <td>0.035924</td>\n",
              "      <td>1.000000</td>\n",
              "    </tr>\n",
              "  </tbody>\n",
              "</table>\n",
              "</div>\n",
              "      <button class=\"colab-df-convert\" onclick=\"convertToInteractive('df-3b427a81-6bbd-4df2-a6fd-75659d6e13c7')\"\n",
              "              title=\"Convert this dataframe to an interactive table.\"\n",
              "              style=\"display:none;\">\n",
              "        \n",
              "  <svg xmlns=\"http://www.w3.org/2000/svg\" height=\"24px\"viewBox=\"0 0 24 24\"\n",
              "       width=\"24px\">\n",
              "    <path d=\"M0 0h24v24H0V0z\" fill=\"none\"/>\n",
              "    <path d=\"M18.56 5.44l.94 2.06.94-2.06 2.06-.94-2.06-.94-.94-2.06-.94 2.06-2.06.94zm-11 1L8.5 8.5l.94-2.06 2.06-.94-2.06-.94L8.5 2.5l-.94 2.06-2.06.94zm10 10l.94 2.06.94-2.06 2.06-.94-2.06-.94-.94-2.06-.94 2.06-2.06.94z\"/><path d=\"M17.41 7.96l-1.37-1.37c-.4-.4-.92-.59-1.43-.59-.52 0-1.04.2-1.43.59L10.3 9.45l-7.72 7.72c-.78.78-.78 2.05 0 2.83L4 21.41c.39.39.9.59 1.41.59.51 0 1.02-.2 1.41-.59l7.78-7.78 2.81-2.81c.8-.78.8-2.07 0-2.86zM5.41 20L4 18.59l7.72-7.72 1.47 1.35L5.41 20z\"/>\n",
              "  </svg>\n",
              "      </button>\n",
              "      \n",
              "  <style>\n",
              "    .colab-df-container {\n",
              "      display:flex;\n",
              "      flex-wrap:wrap;\n",
              "      gap: 12px;\n",
              "    }\n",
              "\n",
              "    .colab-df-convert {\n",
              "      background-color: #E8F0FE;\n",
              "      border: none;\n",
              "      border-radius: 50%;\n",
              "      cursor: pointer;\n",
              "      display: none;\n",
              "      fill: #1967D2;\n",
              "      height: 32px;\n",
              "      padding: 0 0 0 0;\n",
              "      width: 32px;\n",
              "    }\n",
              "\n",
              "    .colab-df-convert:hover {\n",
              "      background-color: #E2EBFA;\n",
              "      box-shadow: 0px 1px 2px rgba(60, 64, 67, 0.3), 0px 1px 3px 1px rgba(60, 64, 67, 0.15);\n",
              "      fill: #174EA6;\n",
              "    }\n",
              "\n",
              "    [theme=dark] .colab-df-convert {\n",
              "      background-color: #3B4455;\n",
              "      fill: #D2E3FC;\n",
              "    }\n",
              "\n",
              "    [theme=dark] .colab-df-convert:hover {\n",
              "      background-color: #434B5C;\n",
              "      box-shadow: 0px 1px 3px 1px rgba(0, 0, 0, 0.15);\n",
              "      filter: drop-shadow(0px 1px 2px rgba(0, 0, 0, 0.3));\n",
              "      fill: #FFFFFF;\n",
              "    }\n",
              "  </style>\n",
              "\n",
              "      <script>\n",
              "        const buttonEl =\n",
              "          document.querySelector('#df-3b427a81-6bbd-4df2-a6fd-75659d6e13c7 button.colab-df-convert');\n",
              "        buttonEl.style.display =\n",
              "          google.colab.kernel.accessAllowed ? 'block' : 'none';\n",
              "\n",
              "        async function convertToInteractive(key) {\n",
              "          const element = document.querySelector('#df-3b427a81-6bbd-4df2-a6fd-75659d6e13c7');\n",
              "          const dataTable =\n",
              "            await google.colab.kernel.invokeFunction('convertToInteractive',\n",
              "                                                     [key], {});\n",
              "          if (!dataTable) return;\n",
              "\n",
              "          const docLinkHtml = 'Like what you see? Visit the ' +\n",
              "            '<a target=\"_blank\" href=https://colab.research.google.com/notebooks/data_table.ipynb>data table notebook</a>'\n",
              "            + ' to learn more about interactive tables.';\n",
              "          element.innerHTML = '';\n",
              "          dataTable['output_type'] = 'display_data';\n",
              "          await google.colab.output.renderOutput(dataTable, element);\n",
              "          const docLink = document.createElement('div');\n",
              "          docLink.innerHTML = docLinkHtml;\n",
              "          element.appendChild(docLink);\n",
              "        }\n",
              "      </script>\n",
              "    </div>\n",
              "  </div>\n",
              "  "
            ]
          },
          "metadata": {},
          "execution_count": 56
        }
      ]
    },
    {
      "cell_type": "code",
      "source": [
        "import matplotlib.pyplot as plt\n",
        "import seaborn as sns"
      ],
      "metadata": {
        "id": "rt1s3ERkQpkV"
      },
      "execution_count": 57,
      "outputs": []
    },
    {
      "cell_type": "code",
      "source": [
        "from sklearn.model_selection import train_test_split\n",
        "from sklearn.metrics import accuracy_score,confusion_matrix,classification_report"
      ],
      "metadata": {
        "id": "Ffvy_zsxQvRJ"
      },
      "execution_count": 58,
      "outputs": []
    },
    {
      "cell_type": "code",
      "source": [
        "X = UAS.drop(columns='job')\n",
        "X.head()"
      ],
      "metadata": {
        "colab": {
          "base_uri": "https://localhost:8080/",
          "height": 206
        },
        "id": "Bo_WPcugQ2j_",
        "outputId": "5f5e99a0-f253-46fb-94ea-ae8376414956"
      },
      "execution_count": 61,
      "outputs": [
        {
          "output_type": "execute_result",
          "data": {
            "text/plain": [
              "   age  marital  education  default  housing  loan  contact  month  \\\n",
              "0   32        0          6        0        0     0        0      3   \n",
              "1   37        3          6        0        0     0        0      4   \n",
              "2   55        0          5        1        2     0        0      3   \n",
              "3   44        1          0        1        0     0        1      4   \n",
              "4   28        2          3        0        0     0        0      5   \n",
              "\n",
              "   day_of_week  duration  campaign  poutcome  \n",
              "0            3       131         5         1  \n",
              "1            3       100         1         1  \n",
              "2            2       131         2         1  \n",
              "3            3        48         2         1  \n",
              "4            0       144         2         1  "
            ],
            "text/html": [
              "\n",
              "  <div id=\"df-693384a6-20ae-43da-be88-45c3e8052a77\">\n",
              "    <div class=\"colab-df-container\">\n",
              "      <div>\n",
              "<style scoped>\n",
              "    .dataframe tbody tr th:only-of-type {\n",
              "        vertical-align: middle;\n",
              "    }\n",
              "\n",
              "    .dataframe tbody tr th {\n",
              "        vertical-align: top;\n",
              "    }\n",
              "\n",
              "    .dataframe thead th {\n",
              "        text-align: right;\n",
              "    }\n",
              "</style>\n",
              "<table border=\"1\" class=\"dataframe\">\n",
              "  <thead>\n",
              "    <tr style=\"text-align: right;\">\n",
              "      <th></th>\n",
              "      <th>age</th>\n",
              "      <th>marital</th>\n",
              "      <th>education</th>\n",
              "      <th>default</th>\n",
              "      <th>housing</th>\n",
              "      <th>loan</th>\n",
              "      <th>contact</th>\n",
              "      <th>month</th>\n",
              "      <th>day_of_week</th>\n",
              "      <th>duration</th>\n",
              "      <th>campaign</th>\n",
              "      <th>poutcome</th>\n",
              "    </tr>\n",
              "  </thead>\n",
              "  <tbody>\n",
              "    <tr>\n",
              "      <th>0</th>\n",
              "      <td>32</td>\n",
              "      <td>0</td>\n",
              "      <td>6</td>\n",
              "      <td>0</td>\n",
              "      <td>0</td>\n",
              "      <td>0</td>\n",
              "      <td>0</td>\n",
              "      <td>3</td>\n",
              "      <td>3</td>\n",
              "      <td>131</td>\n",
              "      <td>5</td>\n",
              "      <td>1</td>\n",
              "    </tr>\n",
              "    <tr>\n",
              "      <th>1</th>\n",
              "      <td>37</td>\n",
              "      <td>3</td>\n",
              "      <td>6</td>\n",
              "      <td>0</td>\n",
              "      <td>0</td>\n",
              "      <td>0</td>\n",
              "      <td>0</td>\n",
              "      <td>4</td>\n",
              "      <td>3</td>\n",
              "      <td>100</td>\n",
              "      <td>1</td>\n",
              "      <td>1</td>\n",
              "    </tr>\n",
              "    <tr>\n",
              "      <th>2</th>\n",
              "      <td>55</td>\n",
              "      <td>0</td>\n",
              "      <td>5</td>\n",
              "      <td>1</td>\n",
              "      <td>2</td>\n",
              "      <td>0</td>\n",
              "      <td>0</td>\n",
              "      <td>3</td>\n",
              "      <td>2</td>\n",
              "      <td>131</td>\n",
              "      <td>2</td>\n",
              "      <td>1</td>\n",
              "    </tr>\n",
              "    <tr>\n",
              "      <th>3</th>\n",
              "      <td>44</td>\n",
              "      <td>1</td>\n",
              "      <td>0</td>\n",
              "      <td>1</td>\n",
              "      <td>0</td>\n",
              "      <td>0</td>\n",
              "      <td>1</td>\n",
              "      <td>4</td>\n",
              "      <td>3</td>\n",
              "      <td>48</td>\n",
              "      <td>2</td>\n",
              "      <td>1</td>\n",
              "    </tr>\n",
              "    <tr>\n",
              "      <th>4</th>\n",
              "      <td>28</td>\n",
              "      <td>2</td>\n",
              "      <td>3</td>\n",
              "      <td>0</td>\n",
              "      <td>0</td>\n",
              "      <td>0</td>\n",
              "      <td>0</td>\n",
              "      <td>5</td>\n",
              "      <td>0</td>\n",
              "      <td>144</td>\n",
              "      <td>2</td>\n",
              "      <td>1</td>\n",
              "    </tr>\n",
              "  </tbody>\n",
              "</table>\n",
              "</div>\n",
              "      <button class=\"colab-df-convert\" onclick=\"convertToInteractive('df-693384a6-20ae-43da-be88-45c3e8052a77')\"\n",
              "              title=\"Convert this dataframe to an interactive table.\"\n",
              "              style=\"display:none;\">\n",
              "        \n",
              "  <svg xmlns=\"http://www.w3.org/2000/svg\" height=\"24px\"viewBox=\"0 0 24 24\"\n",
              "       width=\"24px\">\n",
              "    <path d=\"M0 0h24v24H0V0z\" fill=\"none\"/>\n",
              "    <path d=\"M18.56 5.44l.94 2.06.94-2.06 2.06-.94-2.06-.94-.94-2.06-.94 2.06-2.06.94zm-11 1L8.5 8.5l.94-2.06 2.06-.94-2.06-.94L8.5 2.5l-.94 2.06-2.06.94zm10 10l.94 2.06.94-2.06 2.06-.94-2.06-.94-.94-2.06-.94 2.06-2.06.94z\"/><path d=\"M17.41 7.96l-1.37-1.37c-.4-.4-.92-.59-1.43-.59-.52 0-1.04.2-1.43.59L10.3 9.45l-7.72 7.72c-.78.78-.78 2.05 0 2.83L4 21.41c.39.39.9.59 1.41.59.51 0 1.02-.2 1.41-.59l7.78-7.78 2.81-2.81c.8-.78.8-2.07 0-2.86zM5.41 20L4 18.59l7.72-7.72 1.47 1.35L5.41 20z\"/>\n",
              "  </svg>\n",
              "      </button>\n",
              "      \n",
              "  <style>\n",
              "    .colab-df-container {\n",
              "      display:flex;\n",
              "      flex-wrap:wrap;\n",
              "      gap: 12px;\n",
              "    }\n",
              "\n",
              "    .colab-df-convert {\n",
              "      background-color: #E8F0FE;\n",
              "      border: none;\n",
              "      border-radius: 50%;\n",
              "      cursor: pointer;\n",
              "      display: none;\n",
              "      fill: #1967D2;\n",
              "      height: 32px;\n",
              "      padding: 0 0 0 0;\n",
              "      width: 32px;\n",
              "    }\n",
              "\n",
              "    .colab-df-convert:hover {\n",
              "      background-color: #E2EBFA;\n",
              "      box-shadow: 0px 1px 2px rgba(60, 64, 67, 0.3), 0px 1px 3px 1px rgba(60, 64, 67, 0.15);\n",
              "      fill: #174EA6;\n",
              "    }\n",
              "\n",
              "    [theme=dark] .colab-df-convert {\n",
              "      background-color: #3B4455;\n",
              "      fill: #D2E3FC;\n",
              "    }\n",
              "\n",
              "    [theme=dark] .colab-df-convert:hover {\n",
              "      background-color: #434B5C;\n",
              "      box-shadow: 0px 1px 3px 1px rgba(0, 0, 0, 0.15);\n",
              "      filter: drop-shadow(0px 1px 2px rgba(0, 0, 0, 0.3));\n",
              "      fill: #FFFFFF;\n",
              "    }\n",
              "  </style>\n",
              "\n",
              "      <script>\n",
              "        const buttonEl =\n",
              "          document.querySelector('#df-693384a6-20ae-43da-be88-45c3e8052a77 button.colab-df-convert');\n",
              "        buttonEl.style.display =\n",
              "          google.colab.kernel.accessAllowed ? 'block' : 'none';\n",
              "\n",
              "        async function convertToInteractive(key) {\n",
              "          const element = document.querySelector('#df-693384a6-20ae-43da-be88-45c3e8052a77');\n",
              "          const dataTable =\n",
              "            await google.colab.kernel.invokeFunction('convertToInteractive',\n",
              "                                                     [key], {});\n",
              "          if (!dataTable) return;\n",
              "\n",
              "          const docLinkHtml = 'Like what you see? Visit the ' +\n",
              "            '<a target=\"_blank\" href=https://colab.research.google.com/notebooks/data_table.ipynb>data table notebook</a>'\n",
              "            + ' to learn more about interactive tables.';\n",
              "          element.innerHTML = '';\n",
              "          dataTable['output_type'] = 'display_data';\n",
              "          await google.colab.output.renderOutput(dataTable, element);\n",
              "          const docLink = document.createElement('div');\n",
              "          docLink.innerHTML = docLinkHtml;\n",
              "          element.appendChild(docLink);\n",
              "        }\n",
              "      </script>\n",
              "    </div>\n",
              "  </div>\n",
              "  "
            ]
          },
          "metadata": {},
          "execution_count": 61
        }
      ]
    },
    {
      "cell_type": "code",
      "source": [
        "y = UAS['age']\n",
        "y.head()"
      ],
      "metadata": {
        "colab": {
          "base_uri": "https://localhost:8080/"
        },
        "id": "2-ppcqAhQ8B1",
        "outputId": "3694d947-eb5e-4bbb-80d7-4870c25c07c1"
      },
      "execution_count": 62,
      "outputs": [
        {
          "output_type": "execute_result",
          "data": {
            "text/plain": [
              "0    32\n",
              "1    37\n",
              "2    55\n",
              "3    44\n",
              "4    28\n",
              "Name: age, dtype: int64"
            ]
          },
          "metadata": {},
          "execution_count": 62
        }
      ]
    },
    {
      "cell_type": "code",
      "source": [
        "X_train, X_test, y_train, y_test = train_test_split(X, y, test_size=0.4, random_state=10)\n",
        "print('training dataset')\n",
        "print(X_train.shape)\n",
        "print(y_train.shape)\n",
        "print()\n",
        "print('testing dataset:')\n",
        "print(X_train.shape)\n",
        "print(y_train.shape)"
      ],
      "metadata": {
        "colab": {
          "base_uri": "https://localhost:8080/"
        },
        "id": "R5mp15hXRAsm",
        "outputId": "c29d8928-725f-42db-acf6-1e86743c2319"
      },
      "execution_count": 63,
      "outputs": [
        {
          "output_type": "stream",
          "name": "stdout",
          "text": [
            "training dataset\n",
            "(4941, 12)\n",
            "(4941,)\n",
            "\n",
            "testing dataset:\n",
            "(4941, 12)\n",
            "(4941,)\n"
          ]
        }
      ]
    },
    {
      "cell_type": "code",
      "source": [
        "#K-Nearest Neighbors (KNN)\n",
        "from sklearn.neighbors import KNeighborsClassifier"
      ],
      "metadata": {
        "id": "d763ehXORD-f"
      },
      "execution_count": 64,
      "outputs": []
    },
    {
      "cell_type": "code",
      "source": [
        "k_range = list(range(1,26))\n",
        "scores = []\n",
        "for k in k_range:\n",
        "  model_knn = KNeighborsClassifier(n_neighbors=k) #konfigurasi algoritma\n",
        "  model_knn.fit(X_train, y_train) # training model/classfier\n",
        "  y_pred = model_knn.predict(X_test) # melakukan prediksi\n",
        "  scores.append(accuracy_score(y_test, y_pred)) #  evaluasi perfoma"
      ],
      "metadata": {
        "id": "uwMgedWfRHca"
      },
      "execution_count": 65,
      "outputs": []
    },
    {
      "cell_type": "code",
      "source": [
        "plt.plot(k_range, scores)\n",
        "plt.xlabel('Value of k for KNN')\n",
        "plt.ylabel('Accuracy Score')\n",
        "plt.title('Accuracy Scores for Values of k of k-Nearest-Neighbors')\n",
        "plt.tight_layout()\n",
        "plt.show()"
      ],
      "metadata": {
        "colab": {
          "base_uri": "https://localhost:8080/",
          "height": 297
        },
        "id": "4-jTt9r5RMNd",
        "outputId": "3b4a051c-1e53-4c9d-a333-eeb2457baaf8"
      },
      "execution_count": 66,
      "outputs": [
        {
          "output_type": "display_data",
          "data": {
            "text/plain": [
              "<Figure size 432x288 with 1 Axes>"
            ],
            "image/png": "[encoded data removed]"
          },
          "metadata": {
            "needs_background": "light"
          }
        }
      ]
    },
    {
      "cell_type": "code",
      "source": [
        "model_knn = KNeighborsClassifier(n_neighbors=3) # konfigurasi algoritma\n",
        "model_knn.fit(X_train, y_train) # training model/classifier\n",
        "y_pred = model_knn.predict(X_test) # melakukan prediksi"
      ],
      "metadata": {
        "id": "vwFsu9k7RRxS"
      },
      "execution_count": 67,
      "outputs": []
    },
    {
      "cell_type": "code",
      "source": [
        "#Accuracy Score\n",
        "print(accuracy_score(y_test, y_pred)) # evaluasi akurasi"
      ],
      "metadata": {
        "colab": {
          "base_uri": "https://localhost:8080/"
        },
        "id": "AMhdVxQrRUbx",
        "outputId": "224f9213-6cca-468e-e975-eb721fdccb29"
      },
      "execution_count": null,
      "outputs": [
        {
          "output_type": "stream",
          "name": "stdout",
          "text": [
            "0.29954476479514414\n"
          ]
        }
      ]
    },
    {
      "cell_type": "code",
      "source": [
        "# Confusion Matrix\n",
        "print(confusion_matrix(y_test, y_pred)) # evaluasi confusion matrix"
      ],
      "metadata": {
        "colab": {
          "base_uri": "https://localhost:8080/"
        },
        "id": "9yOEOq8YRXXQ",
        "outputId": "5f830363-716a-406b-ad60-3364dea661c1"
      },
      "execution_count": 68,
      "outputs": [
        {
          "output_type": "stream",
          "name": "stdout",
          "text": [
            "[[131  41  15   5   1   0   1   0   0   0   0   0   0   0   0   0   0   0\n",
            "    0   0   0   0   0   0   0   0   0   0   0   0]\n",
            " [ 31  16   7   2   0   0   0   0   0   0   0   0   0   0   0   0   0   0\n",
            "    0   0   0   0   0   0   0   0   0   0   0   0]\n",
            " [ 28  19   9   9   4   0   0   1   0   0   0   0   0   0   0   0   0   0\n",
            "    0   0   0   0   0   0   0   0   0   0   0   0]\n",
            " [ 16  24  30  21  18   4   3   0   0   0   0   0   0   0   0   0   0   0\n",
            "    0   0   0   0   0   0   0   0   0   0   0   0]\n",
            " [  6  11  27  30  42  20   6   3   1   0   0   0   0   0   0   0   0   0\n",
            "    0   0   0   0   0   0   0   0   0   0   0   0]\n",
            " [  1   5   9  37  53  50  17   9   1   0   0   0   0   0   0   0   0   0\n",
            "    0   0   0   0   0   0   0   0   0   0   0   0]\n",
            " [  1   0   5  11  33  40  29  12   7   2   0   0   0   0   0   0   0   0\n",
            "    0   0   0   0   0   0   0   0   0   0   0   0]\n",
            " [  0   0   2   1  13  33  41  41  22   3   3   0   0   0   0   0   0   0\n",
            "    0   0   0   0   0   0   0   0   0   0   0   0]\n",
            " [  0   0   0   0   3  16  34  38  24  18  11   2   0   0   0   0   0   0\n",
            "    0   0   0   0   0   0   0   0   0   0   0   0]\n",
            " [  0   0   0   0   0   2  16  35  35  27  13   7   0   0   0   0   0   0\n",
            "    0   0   0   0   0   0   0   0   0   0   0   0]\n",
            " [  0   0   0   0   0   3   5  15  31  36  36  12   3   0   0   0   0   0\n",
            "    0   0   0   0   0   0   0   0   0   0   0   0]\n",
            " [  0   0   0   0   0   0   1  10  15  23  34  25   6   6   0   0   0   0\n",
            "    0   0   0   0   0   0   0   0   0   0   0   0]\n",
            " [  0   0   0   0   0   0   0   2   4  14  31  32  15  17   1   0   1   0\n",
            "    0   0   0   0   0   0   0   0   0   0   0   0]\n",
            " [  0   0   0   0   0   0   0   1   2   4  17  28  21  27   7   2   3   0\n",
            "    0   0   0   0   0   0   0   0   0   0   0   0]\n",
            " [  0   0   0   0   0   0   0   0   1   0   3   9  19  33  14   8   2   0\n",
            "    0   0   0   0   0   0   0   0   0   0   0   0]\n",
            " [  0   0   0   0   0   0   0   0   0   0   0   6  17  30  14  14   8   5\n",
            "    0   1   0   0   0   0   0   0   0   0   0   0]\n",
            " [  0   0   0   0   0   0   0   0   0   0   0   0   3  19  18  17  11  16\n",
            "    2   1   0   0   0   0   0   0   0   0   0   0]\n",
            " [  0   0   0   0   0   0   0   0   0   0   0   0   0   4  11  25  21  16\n",
            "    9   2   0   0   0   0   0   0   0   0   0   0]\n",
            " [  0   0   0   0   0   0   0   0   0   0   0   0   1   1   2  19  14  15\n",
            "    7   7   2   2   0   0   0   0   0   0   0   0]\n",
            " [  0   0   0   0   0   0   0   0   0   0   0   0   0   1   1   5  13  26\n",
            "   15  16   7   6   0   0   0   0   0   0   0   0]\n",
            " [  0   0   0   0   0   0   0   0   0   0   0   0   0   0   0   0   4  17\n",
            "   23  21  13  11   2   1   0   0   0   0   0   0]\n",
            " [  0   0   0   0   0   0   0   0   0   0   0   0   0   0   1   0   0   4\n",
            "    7  15  13  19   6   3   3   0   0   0   0   0]\n",
            " [  0   0   0   0   0   0   0   0   0   0   0   0   0   0   0   0   0   0\n",
            "    7  11  16  25  20   7   5   1   0   0   0   0]\n",
            " [  0   0   0   0   0   0   0   0   0   0   0   0   0   0   0   0   0   0\n",
            "    1   4  11  10  21  11   6   4   0   0   0   0]\n",
            " [  0   0   0   0   0   0   0   0   0   0   0   0   0   0   0   0   0   0\n",
            "    0   0   3  13  15  11  11   4   2   0   0   1]\n",
            " [  0   0   0   0   0   0   0   0   0   0   0   0   0   0   0   0   0   0\n",
            "    0   0   0   3   8   9  16   4   5   0   1   3]\n",
            " [  0   0   0   0   0   0   0   0   0   0   0   0   0   0   0   0   0   0\n",
            "    0   0   0   0   1  10  13  14   9   5   2   7]\n",
            " [  0   0   0   0   0   0   0   0   0   0   0   0   0   0   0   0   0   0\n",
            "    0   0   0   0   0   3   5  11   7   9   0  22]\n",
            " [  0   0   0   0   0   0   0   0   0   0   0   0   0   0   0   0   0   0\n",
            "    0   0   0   0   0   0   0   4   5   3   0  43]\n",
            " [  0   0   0   0   0   0   0   0   0   0   0   0   0   0   0   0   0   0\n",
            "    0   0   0   0   0   2   7  10  14  18   6 280]]\n"
          ]
        }
      ]
    },
    {
      "cell_type": "code",
      "source": [
        "# Classfication Report\n",
        "print(classification_report(y_test, y_pred)) # evaluasi klasifikasi"
      ],
      "metadata": {
        "colab": {
          "base_uri": "https://localhost:8080/"
        },
        "id": "gL7T-NzVSDR3",
        "outputId": "f2f5afc3-943f-465b-cc0a-a1c735aaa497"
      },
      "execution_count": 69,
      "outputs": [
        {
          "output_type": "stream",
          "name": "stdout",
          "text": [
            "              precision    recall  f1-score   support\n",
            "\n",
            "          26       0.61      0.68      0.64       194\n",
            "          27       0.14      0.29      0.19        56\n",
            "          28       0.09      0.13      0.10        70\n",
            "          29       0.18      0.18      0.18       116\n",
            "          30       0.25      0.29      0.27       146\n",
            "          31       0.30      0.27      0.29       182\n",
            "          32       0.19      0.21      0.20       140\n",
            "          33       0.25      0.26      0.25       159\n",
            "          34       0.17      0.16      0.17       146\n",
            "          35       0.21      0.20      0.21       135\n",
            "          36       0.24      0.26      0.25       141\n",
            "          37       0.21      0.21      0.21       120\n",
            "          38       0.18      0.13      0.15       117\n",
            "          39       0.20      0.24      0.22       112\n",
            "          40       0.20      0.16      0.18        89\n",
            "          41       0.16      0.15      0.15        95\n",
            "          42       0.14      0.13      0.13        87\n",
            "          43       0.16      0.18      0.17        88\n",
            "          44       0.10      0.10      0.10        70\n",
            "          45       0.21      0.18      0.19        90\n",
            "          46       0.20      0.14      0.17        92\n",
            "          47       0.21      0.27      0.24        71\n",
            "          48       0.27      0.22      0.24        92\n",
            "          49       0.19      0.16      0.18        68\n",
            "          50       0.17      0.18      0.17        60\n",
            "          51       0.08      0.08      0.08        49\n",
            "          52       0.21      0.15      0.17        61\n",
            "          53       0.26      0.16      0.20        57\n",
            "          54       0.00      0.00      0.00        55\n",
            "          55       0.79      0.83      0.81       337\n",
            "\n",
            "    accuracy                           0.29      3295\n",
            "   macro avg       0.22      0.22      0.22      3295\n",
            "weighted avg       0.28      0.29      0.28      3295\n",
            "\n"
          ]
        }
      ]
    },
    {
      "cell_type": "code",
      "source": [
        "#Logistik Regression LR\n",
        "from sklearn.linear_model import LogisticRegression"
      ],
      "metadata": {
        "id": "ygzKnXK8SH-B"
      },
      "execution_count": 70,
      "outputs": []
    },
    {
      "cell_type": "code",
      "source": [
        "# model_logreg = logistik Regression()\n",
        "model_logreg = LogisticRegression(solver='lbfgs', multi_class='auto')\n",
        "model_logreg.fit(X_train,y_train)\n",
        "y_pred = model_logreg.predict(X_test)"
      ],
      "metadata": {
        "colab": {
          "base_uri": "https://localhost:8080/"
        },
        "id": "tLIc09dPSMdn",
        "outputId": "55a7a870-08a3-43ab-c9a9-a1908fdde912"
      },
      "execution_count": 71,
      "outputs": [
        {
          "output_type": "stream",
          "name": "stderr",
          "text": [
            "/usr/local/lib/python3.8/dist-packages/sklearn/linear_model/_logistic.py:458: ConvergenceWarning: lbfgs failed to converge (status=1):\n",
            "STOP: TOTAL NO. of ITERATIONS REACHED LIMIT.\n",
            "\n",
            "Increase the number of iterations (max_iter) or scale the data as shown in:\n",
            "    https://scikit-learn.org/stable/modules/preprocessing.html\n",
            "Please also refer to the documentation for alternative solver options:\n",
            "    https://scikit-learn.org/stable/modules/linear_model.html#logistic-regression\n",
            "  n_iter_i = _check_optimize_result(\n"
          ]
        }
      ]
    },
    {
      "cell_type": "code",
      "source": [
        "#Accuracy Score\n",
        "print(accuracy_score(y_test, y_pred))"
      ],
      "metadata": {
        "colab": {
          "base_uri": "https://localhost:8080/"
        },
        "id": "Ynr7xU8QSPLs",
        "outputId": "cd35fbce-fd39-489f-b3ac-44dfec05d418"
      },
      "execution_count": 72,
      "outputs": [
        {
          "output_type": "stream",
          "name": "stdout",
          "text": [
            "0.15144157814871018\n"
          ]
        }
      ]
    },
    {
      "cell_type": "code",
      "source": [
        "#Confusion Matrix\n",
        "(confusion_matrix(y_test, y_pred))"
      ],
      "metadata": {
        "colab": {
          "base_uri": "https://localhost:8080/"
        },
        "id": "NYqBLbmkSSYZ",
        "outputId": "5eee377e-5672-433d-ee13-a65af336319d"
      },
      "execution_count": 73,
      "outputs": [
        {
          "output_type": "execute_result",
          "data": {
            "text/plain": [
              "array([[ 88,   0,  11,   0,   9,   7,  32,   0,   8,   0,  32,   0,   0,\n",
              "          1,   0,   0,   0,   0,   0,   0,   0,   0,   0,   0,   0,   0,\n",
              "          0,   0,   0,   6],\n",
              "       [ 19,   0,   2,   0,   7,   1,  14,   0,   1,   0,  11,   0,   0,\n",
              "          0,   0,   0,   0,   0,   0,   0,   0,   0,   0,   0,   0,   0,\n",
              "          0,   0,   0,   1],\n",
              "       [ 25,   0,   5,   0,   3,   0,  16,   0,   1,   0,  17,   1,   0,\n",
              "          1,   0,   0,   0,   0,   0,   0,   0,   0,   0,   0,   0,   0,\n",
              "          0,   0,   0,   1],\n",
              "       [ 33,   0,   8,   0,   3,   4,  30,   0,   4,   0,  28,   0,   0,\n",
              "          2,   0,   0,   0,   0,   0,   0,   0,   0,   0,   0,   0,   0,\n",
              "          0,   0,   0,   4],\n",
              "       [ 30,   0,   7,   0,   6,   1,  33,   0,   8,   0,  46,   1,   0,\n",
              "          0,   0,   0,   0,   0,   0,   0,   0,   0,   0,   0,   0,   0,\n",
              "          0,   0,   1,  13],\n",
              "       [ 41,   0,   7,   0,   3,   4,  38,   0,   6,   1,  65,   0,   0,\n",
              "          1,   0,   0,   0,   0,   0,   0,   0,   0,   0,   0,   0,   0,\n",
              "          0,   0,   2,  14],\n",
              "       [ 27,   0,   5,   0,   2,   2,  32,   0,   6,   0,  51,   0,   0,\n",
              "          3,   0,   0,   0,   0,   0,   0,   0,   0,   0,   0,   0,   0,\n",
              "          0,   0,   1,  11],\n",
              "       [ 26,   0,   3,   0,   0,   2,  29,   0,   7,   1,  64,   1,   0,\n",
              "          2,   0,   0,   0,   0,   0,   0,   0,   0,   0,   0,   0,   0,\n",
              "          0,   0,   4,  20],\n",
              "       [ 17,   0,   2,   0,   6,   0,  25,   1,   9,   1,  59,   0,   0,\n",
              "          3,   0,   0,   0,   0,   0,   0,   0,   0,   0,   0,   0,   0,\n",
              "          0,   0,   0,  23],\n",
              "       [ 20,   0,   1,   0,   2,   0,  19,   0,   9,   0,  55,   1,   0,\n",
              "          6,   0,   0,   0,   0,   0,   0,   0,   0,   0,   0,   0,   0,\n",
              "          0,   0,   1,  21],\n",
              "       [ 15,   0,   1,   0,   0,   1,  22,   0,   7,   1,  63,   2,   0,\n",
              "          1,   0,   0,   0,   0,   0,   0,   0,   0,   0,   0,   0,   0,\n",
              "          0,   0,   1,  27],\n",
              "       [ 14,   0,   2,   0,   0,   0,  18,   0,   4,   1,  45,   2,   0,\n",
              "          3,   0,   0,   0,   0,   0,   0,   0,   0,   0,   0,   0,   0,\n",
              "          0,   0,   3,  28],\n",
              "       [  7,   0,   3,   0,   0,   2,   9,   0,   6,   0,  50,   3,   0,\n",
              "          3,   0,   0,   0,   0,   0,   0,   0,   0,   0,   0,   0,   0,\n",
              "          0,   0,   2,  32],\n",
              "       [  9,   0,   1,   0,   0,   0,   8,   0,   4,   3,  48,   0,   0,\n",
              "          4,   0,   0,   0,   0,   0,   0,   0,   0,   0,   0,   0,   0,\n",
              "          0,   0,   1,  34],\n",
              "       [  3,   0,   1,   0,   1,   0,   5,   0,   7,   1,  33,   0,   0,\n",
              "          2,   0,   0,   0,   0,   0,   0,   0,   0,   0,   0,   0,   0,\n",
              "          0,   0,   0,  36],\n",
              "       [  3,   0,   0,   0,   0,   1,   8,   0,   4,   2,  23,   2,   0,\n",
              "          4,   0,   0,   0,   0,   0,   0,   0,   0,   0,   0,   0,   0,\n",
              "          0,   0,   4,  44],\n",
              "       [  4,   0,   0,   0,   0,   0,   6,   0,   3,   1,  37,   1,   0,\n",
              "          1,   0,   0,   0,   0,   0,   0,   0,   0,   0,   0,   0,   0,\n",
              "          0,   0,   0,  34],\n",
              "       [  0,   0,   0,   0,   0,   0,   2,   0,   2,   3,  34,   1,   0,\n",
              "          2,   0,   0,   0,   0,   0,   0,   0,   0,   0,   0,   0,   0,\n",
              "          0,   0,   1,  43],\n",
              "       [  1,   0,   0,   0,   0,   0,   1,   0,   0,   1,  19,   0,   0,\n",
              "          1,   0,   0,   0,   0,   0,   0,   0,   0,   0,   0,   0,   0,\n",
              "          0,   0,   0,  47],\n",
              "       [  0,   0,   0,   0,   0,   0,   0,   0,   5,   0,  36,   0,   0,\n",
              "          2,   0,   0,   0,   0,   0,   0,   0,   0,   0,   0,   0,   0,\n",
              "          0,   0,   2,  45],\n",
              "       [  1,   0,   0,   0,   1,   0,   2,   0,   3,   0,  16,   0,   0,\n",
              "          2,   0,   0,   0,   0,   0,   0,   0,   0,   0,   0,   0,   0,\n",
              "          0,   0,   2,  65],\n",
              "       [  0,   0,   0,   0,   0,   0,   0,   0,   1,   0,  16,   0,   0,\n",
              "          0,   0,   0,   0,   0,   0,   0,   0,   0,   0,   0,   0,   0,\n",
              "          0,   0,   0,  54],\n",
              "       [  1,   0,   0,   0,   0,   0,   3,   0,   2,   0,  20,   0,   0,\n",
              "          0,   0,   0,   0,   0,   0,   0,   0,   0,   0,   0,   0,   0,\n",
              "          0,   0,   3,  63],\n",
              "       [  0,   0,   0,   0,   0,   0,   0,   0,   3,   0,  19,   1,   0,\n",
              "          0,   0,   0,   0,   0,   0,   0,   0,   0,   0,   0,   0,   0,\n",
              "          0,   0,   0,  45],\n",
              "       [  0,   0,   0,   0,   0,   0,   0,   0,   2,   0,   7,   0,   0,\n",
              "          2,   0,   0,   0,   0,   0,   0,   0,   0,   0,   0,   0,   0,\n",
              "          0,   0,   2,  47],\n",
              "       [  0,   0,   0,   0,   0,   0,   0,   0,   0,   0,  10,   1,   0,\n",
              "          0,   0,   0,   0,   0,   0,   0,   0,   0,   0,   0,   0,   0,\n",
              "          0,   0,   0,  38],\n",
              "       [  0,   0,   0,   0,   0,   0,   3,   0,   1,   0,  11,   0,   0,\n",
              "          0,   0,   0,   0,   0,   0,   0,   0,   0,   0,   0,   0,   0,\n",
              "          0,   0,   1,  45],\n",
              "       [  0,   0,   0,   0,   0,   0,   0,   0,   2,   0,  12,   0,   0,\n",
              "          0,   0,   0,   0,   0,   0,   0,   0,   0,   0,   0,   0,   0,\n",
              "          0,   0,   1,  42],\n",
              "       [  0,   0,   0,   0,   0,   0,   0,   0,   0,   0,  10,   0,   0,\n",
              "          1,   0,   0,   0,   0,   0,   0,   0,   0,   0,   0,   0,   0,\n",
              "          0,   0,   4,  40],\n",
              "       [  0,   0,   0,   0,   0,   0,   2,   0,   5,   0,  42,   3,   0,\n",
              "          2,   0,   0,   0,   0,   0,   0,   0,   0,   0,   0,   0,   0,\n",
              "          0,   0,   1, 282]])"
            ]
          },
          "metadata": {},
          "execution_count": 73
        }
      ]
    },
    {
      "cell_type": "code",
      "source": [
        "#Classification Report\n",
        "print(classification_report(y_test, y_pred))"
      ],
      "metadata": {
        "colab": {
          "base_uri": "https://localhost:8080/"
        },
        "id": "F_-njNtASU9g",
        "outputId": "6291aa1c-dc0c-4d12-9099-327bd3e36ef4"
      },
      "execution_count": 74,
      "outputs": [
        {
          "output_type": "stream",
          "name": "stdout",
          "text": [
            "              precision    recall  f1-score   support\n",
            "\n",
            "          26       0.23      0.45      0.30       194\n",
            "          27       0.00      0.00      0.00        56\n",
            "          28       0.08      0.07      0.08        70\n",
            "          29       0.00      0.00      0.00       116\n",
            "          30       0.14      0.04      0.06       146\n",
            "          31       0.16      0.02      0.04       182\n",
            "          32       0.09      0.23      0.13       140\n",
            "          33       0.00      0.00      0.00       159\n",
            "          34       0.07      0.06      0.07       146\n",
            "          35       0.00      0.00      0.00       135\n",
            "          36       0.06      0.45      0.11       141\n",
            "          37       0.10      0.02      0.03       120\n",
            "          38       0.00      0.00      0.00       117\n",
            "          39       0.08      0.04      0.05       112\n",
            "          40       0.00      0.00      0.00        89\n",
            "          41       0.00      0.00      0.00        95\n",
            "          42       0.00      0.00      0.00        87\n",
            "          43       0.00      0.00      0.00        88\n",
            "          44       0.00      0.00      0.00        70\n",
            "          45       0.00      0.00      0.00        90\n",
            "          46       0.00      0.00      0.00        92\n",
            "          47       0.00      0.00      0.00        71\n",
            "          48       0.00      0.00      0.00        92\n",
            "          49       0.00      0.00      0.00        68\n",
            "          50       0.00      0.00      0.00        60\n",
            "          51       0.00      0.00      0.00        49\n",
            "          52       0.00      0.00      0.00        61\n",
            "          53       0.00      0.00      0.00        57\n",
            "          54       0.11      0.07      0.09        55\n",
            "          55       0.23      0.84      0.37       337\n",
            "\n",
            "    accuracy                           0.15      3295\n",
            "   macro avg       0.05      0.08      0.04      3295\n",
            "weighted avg       0.07      0.15      0.08      3295\n",
            "\n"
          ]
        },
        {
          "output_type": "stream",
          "name": "stderr",
          "text": [
            "/usr/local/lib/python3.8/dist-packages/sklearn/metrics/_classification.py:1344: UndefinedMetricWarning: Precision and F-score are ill-defined and being set to 0.0 in labels with no predicted samples. Use `zero_division` parameter to control this behavior.\n",
            "  _warn_prf(average, modifier, msg_start, len(result))\n",
            "/usr/local/lib/python3.8/dist-packages/sklearn/metrics/_classification.py:1344: UndefinedMetricWarning: Precision and F-score are ill-defined and being set to 0.0 in labels with no predicted samples. Use `zero_division` parameter to control this behavior.\n",
            "  _warn_prf(average, modifier, msg_start, len(result))\n",
            "/usr/local/lib/python3.8/dist-packages/sklearn/metrics/_classification.py:1344: UndefinedMetricWarning: Precision and F-score are ill-defined and being set to 0.0 in labels with no predicted samples. Use `zero_division` parameter to control this behavior.\n",
            "  _warn_prf(average, modifier, msg_start, len(result))\n"
          ]
        }
      ]
    },
    {
      "cell_type": "code",
      "source": [
        "#Support Vector Classifier (Model SVM)\n",
        "from sklearn.svm import SVC"
      ],
      "metadata": {
        "id": "jiWdz5wVSY3P"
      },
      "execution_count": 75,
      "outputs": []
    },
    {
      "cell_type": "code",
      "source": [
        "# model_svc = SVC()\n",
        "model_svc = SVC(gamma='scale')\n",
        "model_svc.fit(X_train,y_train)\n",
        "y_pred = model_svc.predict(X_test)"
      ],
      "metadata": {
        "id": "PD0O2IekSbVy"
      },
      "execution_count": 76,
      "outputs": []
    },
    {
      "cell_type": "code",
      "source": [
        "# Decision Tree Classifier (DT)\n",
        "from sklearn.tree import DecisionTreeClassifier"
      ],
      "metadata": {
        "id": "ZjAhLg93Seg4"
      },
      "execution_count": 77,
      "outputs": []
    },
    {
      "cell_type": "code",
      "source": [
        "model_dt = DecisionTreeClassifier()\n",
        "model_dt.fit(X_train, y_train)\n",
        "y_pred = model_dt.predict(X_test)"
      ],
      "metadata": {
        "id": "Kv0cvD6UShJC"
      },
      "execution_count": 78,
      "outputs": []
    },
    {
      "cell_type": "code",
      "source": [
        "# Random Forest Classifier Algorithm\n",
        "from sklearn.ensemble import RandomForestClassifier"
      ],
      "metadata": {
        "id": "DoXZysQUSke7"
      },
      "execution_count": 79,
      "outputs": []
    },
    {
      "cell_type": "code",
      "source": [
        "#Decision Tree Classfier (DT)\n",
        "model_rf = RandomForestClassifier(n_estimators=100)\n",
        "model_rf.fit(X_train,y_train)\n",
        "pred_rf = model_rf.predict(X_test)"
      ],
      "metadata": {
        "id": "260rQQzfSm-B"
      },
      "execution_count": 80,
      "outputs": []
    },
    {
      "cell_type": "code",
      "source": [
        "# model_rf = RandomForestClassifier()\n",
        "models = [model_knn, model_logreg, model_svc, model_dt]\n",
        "accuracy_scores = []\n",
        "for model in models:\n",
        "  y_pred = model.predict(X_test)\n",
        "  accuracy = accuracy_score(y_test,y_pred)\n",
        "  accuracy_scores.append(accuracy)\n"
      ],
      "metadata": {
        "id": "N2GAcfnqSpih"
      },
      "execution_count": 81,
      "outputs": []
    },
    {
      "cell_type": "code",
      "source": [
        "plt.bar(['KNN', 'LogReg', 'SVC', 'DT'],accuracy_scores)\n",
        "plt.ylim(0.1,0.9)\n",
        "plt.title('Accuracy comparision for various models', fontsize=15, color='r')\n",
        "plt.xlabel('Models', fontsize=18, color='g')\n",
        "plt.ylabel('Accuracy Score', fontsize=18, color='g')\n",
        "plt.tight_layout()\n",
        "plt.show()"
      ],
      "metadata": {
        "colab": {
          "base_uri": "https://localhost:8080/",
          "height": 297
        },
        "id": "Ruyfq3ISStOc",
        "outputId": "84d5a7ae-a323-48e3-f505-49e2d25e458d"
      },
      "execution_count": 82,
      "outputs": [
        {
          "output_type": "display_data",
          "data": {
            "text/plain": [
              "<Figure size 432x288 with 1 Axes>"
            ],
            "image/png": "[encoded data removed]"
          },
          "metadata": {
            "needs_background": "light"
          }
        }
      ]
    }
  ]
}